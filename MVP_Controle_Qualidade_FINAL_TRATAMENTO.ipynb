{
 "cells": [
  {
   "cell_type": "markdown",
   "id": "94db64bb",
   "metadata": {},
   "source": [
    "\n",
    "# 🧪 MVP - Controle de Qualidade em Lotes de Medicamentos\n",
    "\n",
    "Este notebook foi desenvolvido como parte do MVP da disciplina **Análise Exploratória e Pré-Processamento de Dados** da pós-graduação em Ciência de Dados da **PUC-Rio**.\n",
    "\n",
    "---\n",
    "\n",
    "## 🎯 Objetivo do Projeto\n",
    "\n",
    "Avaliar o desempenho de **controle de qualidade** em **lotes de medicamentos**, com foco na variabilidade de parâmetros físico-químicos críticos ao longo da produção.\n",
    "\n",
    "Foram analisados dados reais laboratoriais de lotes industriais com o objetivo de:\n",
    "\n",
    "- Verificar **conformidade com especificações internas** e limites de impurezas\n",
    "- Avaliar a **eficácia do processo de fabricação**, com base em rendimento e dissolução\n",
    "- Identificar **possíveis desvios** que possam impactar a liberação do produto final\n",
    "\n",
    "Esta análise permite observar padrões de processo, comportamento estatístico dos atributos de qualidade e oportunidades de melhoria no controle estatístico aplicado.\n",
    "\n",
    "---\n",
    "\n",
    "## 🗂️ Dicionário de Variáveis\n",
    "\n",
    "| Variável                  | Descrição                                                                 |\n",
    "|---------------------------|---------------------------------------------------------------------------|\n",
    "| `impurities_total`        | Soma total das impurezas detectadas por HPLC (%)                          |\n",
    "| `impurity_o`              | Impureza O identificada por HPLC (%)                                      |\n",
    "| `impurity_l`              | Impureza L identificada por HPLC (%)                                      |\n",
    "| `resodual_solvent`        | Resíduo de solventes (ppm ou %) presente após o processo                   |\n",
    "| `dissolution_av`          | Média (%) de dissolução dos comprimidos                                   |\n",
    "| `dissolution_min`         | Mínimo (%) de dissolução observada em amostras                            |\n",
    "| `batch_yield`             | Rendimento final do lote após todas as etapas (%)                         |\n"
   ]
  },
  {
   "cell_type": "code",
   "execution_count": null,
   "id": "af79a7fc",
   "metadata": {},
   "outputs": [],
   "source": [
    "\n",
    "import pandas as pd\n",
    "import numpy as np\n",
    "import seaborn as sns\n",
    "import matplotlib.pyplot as plt\n",
    "from sklearn.preprocessing import StandardScaler\n",
    "\n",
    "sns.set(style='whitegrid')\n"
   ]
  },
  {
   "cell_type": "code",
   "execution_count": null,
   "id": "3720145f",
   "metadata": {},
   "outputs": [],
   "source": [
    "\n",
    "from google.colab import files\n",
    "uploaded = files.upload()\n"
   ]
  },
  {
   "cell_type": "code",
   "execution_count": null,
   "id": "ef1a6791",
   "metadata": {},
   "outputs": [],
   "source": [
    "\n",
    "df = pd.read_csv(\"Laboratory.csv\", sep=\";\")\n",
    "df.head()\n"
   ]
  },
  {
   "cell_type": "markdown",
   "id": "5945ee0f",
   "metadata": {},
   "source": [
    "## 📊 Estatísticas Descritivas"
   ]
  },
  {
   "cell_type": "code",
   "execution_count": null,
   "id": "1908429c",
   "metadata": {},
   "outputs": [],
   "source": [
    "\n",
    "df[['impurities_total', 'impurity_o', 'impurity_l', 'resodual_solvent',\n",
    "    'dissolution_av', 'dissolution_min', 'batch_yield']].describe()\n"
   ]
  },
  {
   "cell_type": "markdown",
   "id": "ff2d3b50",
   "metadata": {},
   "source": [
    "## 📈 Distribuição das Impurezas"
   ]
  },
  {
   "cell_type": "code",
   "execution_count": null,
   "id": "9d4651ab",
   "metadata": {},
   "outputs": [],
   "source": [
    "\n",
    "plt.figure(figsize=(12,6))\n",
    "sns.boxplot(data=df[['impurities_total', 'impurity_o', 'impurity_l']])\n",
    "plt.title(\"Boxplot das Impurezas (%)\")\n",
    "plt.show()\n"
   ]
  },
  {
   "cell_type": "markdown",
   "id": "bd420895",
   "metadata": {},
   "source": [
    "## 🔍 Correlação entre Variáveis de Qualidade"
   ]
  },
  {
   "cell_type": "code",
   "execution_count": null,
   "id": "b4cec18b",
   "metadata": {},
   "outputs": [],
   "source": [
    "\n",
    "plt.figure(figsize=(10,8))\n",
    "sns.heatmap(df[['impurities_total', 'resodual_solvent', 'dissolution_av', \n",
    "                'dissolution_min', 'batch_yield']].corr(), annot=True, cmap=\"coolwarm\")\n",
    "plt.title(\"Mapa de Correlação\")\n",
    "plt.show()\n"
   ]
  },
  {
   "cell_type": "markdown",
   "id": "00914bc5",
   "metadata": {},
   "source": [
    "## 🧼 Pré-processamento dos Dados"
   ]
  },
  {
   "cell_type": "code",
   "execution_count": null,
   "id": "7aff7860",
   "metadata": {},
   "outputs": [],
   "source": [
    "\n",
    "---\n",
    "\n",
    "## 🧼 Pré-processamento dos Dados\n",
    "\n",
    "Nesta etapa, realizamos o tratamento de dados com foco em garantir consistência, clareza e robustez estatística para análise.\n",
    "\n",
    "### 🧹 Seleção de variáveis relevantes\n",
    "\n",
    "Removemos colunas não relacionadas diretamente à qualidade do produto (como IDs e dados administrativos) e mantivemos as seguintes variáveis:\n",
    "\n",
    "- `impurities_total`, `impurity_o`, `impurity_l`: indicam a carga de impurezas nos lotes, identificadas por HPLC.\n",
    "- `resodual_solvent`: aponta presença de solventes residuais após fabricação.\n",
    "- `dissolution_av`: média de dissolução do fármaco — indicador de eficácia.\n",
    "- `batch_yield`: rendimento por lote — eficiência do processo.\n",
    "\n",
    "Essa seleção foi feita com base em critérios técnicos e regulatórios para garantir foco nas características críticas da qualidade (CQAs).\n",
    "\n",
    "### ⚙️ Normalização\n",
    "\n",
    "Para permitir comparações justas entre variáveis com escalas diferentes, aplicamos padronização z-score (`StandardScaler`) sobre os campos numéricos selecionados.\n"
   ]
  },
  {
   "cell_type": "markdown",
   "id": "f928950d",
   "metadata": {},
   "source": [
    "\n",
    "---\n",
    "\n",
    "## ✅ Conclusões Finais\n",
    "\n",
    "O projeto permitiu uma visão geral da qualidade dos lotes farmacêuticos, com base em indicadores críticos como impurezas, dissolução e rendimento.\n",
    "\n",
    "---\n",
    "\n",
    "### 📈 Principais achados estatísticos:\n",
    "\n",
    "- **Impurezas totais** concentradas entre 0.2% e 0.6%, **dentro dos limites aceitáveis** (máx. 1.0%)\n",
    "- **Impurezas específicas** (O e L) estão abaixo de 0.15%\n",
    "- **Dissolução média** acima de 90% na maioria dos lotes, evidenciando alta liberação do princípio ativo\n",
    "- **Resíduos de solventes** baixos e estáveis\n",
    "- **Rendimento por lote** elevado (média próxima de 98–101%), sem perdas significativas\n",
    "\n",
    "---\n",
    "\n",
    "### ✅ Conclusão Técnica Final\n",
    "\n",
    "A análise estatística, realizada após um criterioso pré-processamento dos dados, indicou que os lotes avaliados apresentam **perfil de qualidade robusto**, com:\n",
    "\n",
    "- Impurezas dentro de parâmetros aceitáveis\n",
    "- Alta eficácia na liberação do fármaco\n",
    "- Processo produtivo estável e consistente\n",
    "\n",
    "Esses resultados reforçam a **confiabilidade do processo industrial farmacêutico** e a efetividade dos controles aplicados ao longo da cadeia produtiva.\n"
   ]
  },
  {
   "cell_type": "markdown",
   "id": "dd9d209b",
   "metadata": {},
   "source": [
    "\n",
    "## ✅ Conclusões Finais\n",
    "\n",
    "O projeto permitiu uma visão geral da qualidade dos lotes farmacêuticos, com base em indicadores críticos como impurezas, dissolução e rendimento.\n",
    "\n",
    "---\n",
    "\n",
    "### 📈 Principais achados estatísticos:\n",
    "\n",
    "- **Impurezas totais** concentradas entre 0.2% e 0.6%, **dentro dos limites aceitáveis** (máx. 1.0%)\n",
    "- **Impurezas específicas** (O e L) estão abaixo de 0.15%\n",
    "- **Dissolução média** acima de 90% na maioria dos lotes, evidenciando alta liberação do princípio ativo\n",
    "- **Resíduos de solventes** baixos e estáveis\n",
    "- **Rendimento por lote** elevado (média próxima de 98–101%), sem perdas significativas\n",
    "\n",
    "---\n",
    "\n",
    "### ✅ Conclusão Técnica Final\n",
    "\n",
    "A análise estatística do conjunto de dados laboratoriais indica que os lotes avaliados apresentam **perfil de qualidade robusto**, com:\n",
    "\n",
    "- Impurezas dentro de parâmetros aceitáveis\n",
    "- Alta eficácia na liberação do fármaco\n",
    "- Processo produtivo estável e consistente\n",
    "\n",
    "Esses resultados reforçam a **confiabilidade do processo industrial farmacêutico** e a efetividade dos controles aplicados ao longo da cadeia produtiva.\n",
    "\n"
   ]
  }
 ],
 "metadata": {},
 "nbformat": 4,
 "nbformat_minor": 5
}
